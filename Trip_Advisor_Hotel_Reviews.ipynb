{
  "nbformat": 4,
  "nbformat_minor": 0,
  "metadata": {
    "colab": {
      "name": "Trip_Advisor_Hotel_Reviews.ipynb",
      "provenance": []
    },
    "kernelspec": {
      "name": "python3",
      "display_name": "Python 3"
    },
    "language_info": {
      "name": "python"
    },
    "accelerator": "GPU"
  },
  "cells": [
    {
      "cell_type": "markdown",
      "metadata": {
        "id": "dZPP2CXCf2hh"
      },
      "source": [
        "# Submission Dicoding NLP"
      ]
    },
    {
      "cell_type": "markdown",
      "metadata": {
        "id": "hJ-LTwvtgGOn"
      },
      "source": [
        "## About this dataset\n",
        "\n",
        "Hotels play a crucial role in traveling and with the increased access to information new pathways of selecting the best ones emerged.\n",
        "With this dataset, consisting of 20k reviews crawled from Tripadvisor, you can explore what makes a great hotel and maybe even use this model in your travels!\n",
        "\n",
        "Feel free to [download dataset]( https://www.kaggle.com/andrewmvd/trip-advisor-hotel-reviews) from Kaggle\n",
        "\n",
        "### Citation\n",
        "\n",
        "Alam, M. H., Ryu, W.-J., Lee, S., 2016. Joint multi-grain topic sentiment: modeling semantic aspects for online reviews. Information Sciences 339, 206–223."
      ]
    },
    {
      "cell_type": "markdown",
      "metadata": {
        "id": "C1s4rPB5f-XV"
      },
      "source": [
        "# Get the dataset\n",
        "\n",
        "We'll use the opendatasets library to download the data from Kaggle directly within Jupyter. Let's install and import opendatasets."
      ]
    },
    {
      "cell_type": "code",
      "metadata": {
        "id": "DzHcc5ihfs02"
      },
      "source": [
        "!pip install opendatasets --upgrade --quiet"
      ],
      "execution_count": 1,
      "outputs": []
    },
    {
      "cell_type": "code",
      "metadata": {
        "id": "VNb5txSyjlAr"
      },
      "source": [
        "import opendatasets as od"
      ],
      "execution_count": 2,
      "outputs": []
    },
    {
      "cell_type": "code",
      "metadata": {
        "colab": {
          "base_uri": "https://localhost:8080/",
          "height": 35
        },
        "id": "sMiBADE2jsXs",
        "outputId": "c7ad866e-3d3f-4c69-91ed-4bd61e701414"
      },
      "source": [
        "od.version()"
      ],
      "execution_count": 3,
      "outputs": [
        {
          "output_type": "execute_result",
          "data": {
            "application/vnd.google.colaboratory.intrinsic+json": {
              "type": "string"
            },
            "text/plain": [
              "'0.1.20'"
            ]
          },
          "metadata": {},
          "execution_count": 3
        }
      ]
    },
    {
      "cell_type": "markdown",
      "metadata": {
        "id": "OWh6oNiUkQbI"
      },
      "source": [
        "The dataset can now be downloaded using od.download. When you execute od.download, you will be asked to provide your Kaggle username and API key. Follow these instructions to create an API key: http://bit.ly/kaggle-creds"
      ]
    },
    {
      "cell_type": "code",
      "metadata": {
        "id": "Cob4t8o3juAP"
      },
      "source": [
        "dataset_url = 'https://www.kaggle.com/andrewmvd/trip-advisor-hotel-reviews'"
      ],
      "execution_count": 4,
      "outputs": []
    },
    {
      "cell_type": "code",
      "metadata": {
        "colab": {
          "base_uri": "https://localhost:8080/"
        },
        "id": "nxlOr7NwkFTE",
        "outputId": "046cdce7-6b3b-481b-ac7b-a3513b9c0a7e"
      },
      "source": [
        "od.download(dataset_url)"
      ],
      "execution_count": 5,
      "outputs": [
        {
          "output_type": "stream",
          "name": "stdout",
          "text": [
            "Please provide your Kaggle credentials to download this dataset. Learn more: http://bit.ly/kaggle-creds\n",
            "Your Kaggle username: salmanalshahab\n",
            "Your Kaggle Key: ··········\n",
            "Downloading trip-advisor-hotel-reviews.zip to ./trip-advisor-hotel-reviews\n"
          ]
        },
        {
          "output_type": "stream",
          "name": "stderr",
          "text": [
            "100%|██████████| 5.14M/5.14M [00:00<00:00, 187MB/s]"
          ]
        },
        {
          "output_type": "stream",
          "name": "stdout",
          "text": [
            "\n"
          ]
        },
        {
          "output_type": "stream",
          "name": "stderr",
          "text": [
            "\n"
          ]
        }
      ]
    },
    {
      "cell_type": "markdown",
      "metadata": {
        "id": "ii0GuNHekp8p"
      },
      "source": [
        "Once the above command is executed, the dataset is downloaded and extracted to the directory trip-advisor-hotel-reviews"
      ]
    },
    {
      "cell_type": "code",
      "metadata": {
        "id": "Bwj7g4GKkIpb"
      },
      "source": [
        "import os"
      ],
      "execution_count": 6,
      "outputs": []
    },
    {
      "cell_type": "code",
      "metadata": {
        "id": "_Y7MTdtXlMP9"
      },
      "source": [
        "data_dir = './trip-advisor-hotel-reviews'"
      ],
      "execution_count": 7,
      "outputs": []
    },
    {
      "cell_type": "code",
      "metadata": {
        "colab": {
          "base_uri": "https://localhost:8080/"
        },
        "id": "FLcLAaOilYUQ",
        "outputId": "98d14a97-313a-4f7d-e869-0a43995386fb"
      },
      "source": [
        "os.listdir(data_dir)"
      ],
      "execution_count": 8,
      "outputs": [
        {
          "output_type": "execute_result",
          "data": {
            "text/plain": [
              "['tripadvisor_hotel_reviews.csv']"
            ]
          },
          "metadata": {},
          "execution_count": 8
        }
      ]
    },
    {
      "cell_type": "code",
      "metadata": {
        "id": "kJ8wuAy7lcQS"
      },
      "source": [
        "train_csv = data_dir + '/tripadvisor_hotel_reviews.csv'"
      ],
      "execution_count": 9,
      "outputs": []
    },
    {
      "cell_type": "markdown",
      "metadata": {
        "id": "iqotX_QRmGDX"
      },
      "source": [
        "Let's load the data from *tripadvisor_hotel_reviews.csv* using Pandas."
      ]
    },
    {
      "cell_type": "code",
      "metadata": {
        "colab": {
          "base_uri": "https://localhost:8080/",
          "height": 419
        },
        "id": "iWLIuqc7l-Og",
        "outputId": "c143458d-366a-4640-a559-64731f8ef06c"
      },
      "source": [
        "import pandas as pd\n",
        "\n",
        "dataset = pd.read_csv(train_csv)\n",
        "\n",
        "dataset"
      ],
      "execution_count": 10,
      "outputs": [
        {
          "output_type": "execute_result",
          "data": {
            "text/html": [
              "<div>\n",
              "<style scoped>\n",
              "    .dataframe tbody tr th:only-of-type {\n",
              "        vertical-align: middle;\n",
              "    }\n",
              "\n",
              "    .dataframe tbody tr th {\n",
              "        vertical-align: top;\n",
              "    }\n",
              "\n",
              "    .dataframe thead th {\n",
              "        text-align: right;\n",
              "    }\n",
              "</style>\n",
              "<table border=\"1\" class=\"dataframe\">\n",
              "  <thead>\n",
              "    <tr style=\"text-align: right;\">\n",
              "      <th></th>\n",
              "      <th>Review</th>\n",
              "      <th>Rating</th>\n",
              "    </tr>\n",
              "  </thead>\n",
              "  <tbody>\n",
              "    <tr>\n",
              "      <th>0</th>\n",
              "      <td>nice hotel expensive parking got good deal sta...</td>\n",
              "      <td>4</td>\n",
              "    </tr>\n",
              "    <tr>\n",
              "      <th>1</th>\n",
              "      <td>ok nothing special charge diamond member hilto...</td>\n",
              "      <td>2</td>\n",
              "    </tr>\n",
              "    <tr>\n",
              "      <th>2</th>\n",
              "      <td>nice rooms not 4* experience hotel monaco seat...</td>\n",
              "      <td>3</td>\n",
              "    </tr>\n",
              "    <tr>\n",
              "      <th>3</th>\n",
              "      <td>unique, great stay, wonderful time hotel monac...</td>\n",
              "      <td>5</td>\n",
              "    </tr>\n",
              "    <tr>\n",
              "      <th>4</th>\n",
              "      <td>great stay great stay, went seahawk game aweso...</td>\n",
              "      <td>5</td>\n",
              "    </tr>\n",
              "    <tr>\n",
              "      <th>...</th>\n",
              "      <td>...</td>\n",
              "      <td>...</td>\n",
              "    </tr>\n",
              "    <tr>\n",
              "      <th>20486</th>\n",
              "      <td>best kept secret 3rd time staying charm, not 5...</td>\n",
              "      <td>5</td>\n",
              "    </tr>\n",
              "    <tr>\n",
              "      <th>20487</th>\n",
              "      <td>great location price view hotel great quick pl...</td>\n",
              "      <td>4</td>\n",
              "    </tr>\n",
              "    <tr>\n",
              "      <th>20488</th>\n",
              "      <td>ok just looks nice modern outside, desk staff ...</td>\n",
              "      <td>2</td>\n",
              "    </tr>\n",
              "    <tr>\n",
              "      <th>20489</th>\n",
              "      <td>hotel theft ruined vacation hotel opened sept ...</td>\n",
              "      <td>1</td>\n",
              "    </tr>\n",
              "    <tr>\n",
              "      <th>20490</th>\n",
              "      <td>people talking, ca n't believe excellent ratin...</td>\n",
              "      <td>2</td>\n",
              "    </tr>\n",
              "  </tbody>\n",
              "</table>\n",
              "<p>20491 rows × 2 columns</p>\n",
              "</div>"
            ],
            "text/plain": [
              "                                                  Review  Rating\n",
              "0      nice hotel expensive parking got good deal sta...       4\n",
              "1      ok nothing special charge diamond member hilto...       2\n",
              "2      nice rooms not 4* experience hotel monaco seat...       3\n",
              "3      unique, great stay, wonderful time hotel monac...       5\n",
              "4      great stay great stay, went seahawk game aweso...       5\n",
              "...                                                  ...     ...\n",
              "20486  best kept secret 3rd time staying charm, not 5...       5\n",
              "20487  great location price view hotel great quick pl...       4\n",
              "20488  ok just looks nice modern outside, desk staff ...       2\n",
              "20489  hotel theft ruined vacation hotel opened sept ...       1\n",
              "20490  people talking, ca n't believe excellent ratin...       2\n",
              "\n",
              "[20491 rows x 2 columns]"
            ]
          },
          "metadata": {},
          "execution_count": 10
        }
      ]
    },
    {
      "cell_type": "markdown",
      "metadata": {
        "id": "XnBNLZGgm0Bs"
      },
      "source": [
        "The dataset contains over 20,491 rows and 2 columns. Our Objectives is to create model to predict the value in the colums Rating."
      ]
    },
    {
      "cell_type": "markdown",
      "metadata": {
        "id": "yEHqz459np6K"
      },
      "source": [
        "Let's check the data types and missing values in the various columns."
      ]
    },
    {
      "cell_type": "code",
      "metadata": {
        "colab": {
          "base_uri": "https://localhost:8080/"
        },
        "id": "aN361bC4mY2F",
        "outputId": "b622d8cd-d799-484b-c1b5-9070ac777e50"
      },
      "source": [
        "dataset.info()"
      ],
      "execution_count": 11,
      "outputs": [
        {
          "output_type": "stream",
          "name": "stdout",
          "text": [
            "<class 'pandas.core.frame.DataFrame'>\n",
            "RangeIndex: 20491 entries, 0 to 20490\n",
            "Data columns (total 2 columns):\n",
            " #   Column  Non-Null Count  Dtype \n",
            "---  ------  --------------  ----- \n",
            " 0   Review  20491 non-null  object\n",
            " 1   Rating  20491 non-null  int64 \n",
            "dtypes: int64(1), object(1)\n",
            "memory usage: 320.3+ KB\n"
          ]
        }
      ]
    },
    {
      "cell_type": "markdown",
      "metadata": {
        "id": "hV0CSere5xXN"
      },
      "source": [
        "# Plot Hotel Review Ratings"
      ]
    },
    {
      "cell_type": "code",
      "metadata": {
        "colab": {
          "base_uri": "https://localhost:8080/"
        },
        "id": "EaAfoeqP6AxS",
        "outputId": "ab9f05d5-2cb8-447f-9145-9f4ef7258db0"
      },
      "source": [
        "dataset.Rating.value_counts()"
      ],
      "execution_count": 12,
      "outputs": [
        {
          "output_type": "execute_result",
          "data": {
            "text/plain": [
              "5    9054\n",
              "4    6039\n",
              "3    2184\n",
              "2    1793\n",
              "1    1421\n",
              "Name: Rating, dtype: int64"
            ]
          },
          "metadata": {},
          "execution_count": 12
        }
      ]
    },
    {
      "cell_type": "code",
      "metadata": {
        "colab": {
          "base_uri": "https://localhost:8080/",
          "height": 475
        },
        "id": "qJJbqwIn6Eyk",
        "outputId": "7da1e2e4-00d7-47ff-aec0-b9032d5cf388"
      },
      "source": [
        "import seaborn as sns\n",
        "import matplotlib.pyplot as plt\n",
        "plt.figure(figsize=(8,6))\n",
        "sns.countplot(dataset[\"Rating\"])\n",
        "plt.title(\"Ratings of Hotels\")"
      ],
      "execution_count": 13,
      "outputs": [
        {
          "output_type": "stream",
          "name": "stderr",
          "text": [
            "/usr/local/lib/python3.7/dist-packages/seaborn/_decorators.py:43: FutureWarning: Pass the following variable as a keyword arg: x. From version 0.12, the only valid positional argument will be `data`, and passing other arguments without an explicit keyword will result in an error or misinterpretation.\n",
            "  FutureWarning\n"
          ]
        },
        {
          "output_type": "execute_result",
          "data": {
            "text/plain": [
              "Text(0.5, 1.0, 'Ratings of Hotels')"
            ]
          },
          "metadata": {},
          "execution_count": 13
        },
        {
          "output_type": "display_data",
          "data": {
            "image/png": "[encoded data removed]",
            "text/plain": [
              "<Figure size 576x432 with 1 Axes>"
            ]
          },
          "metadata": {
            "needs_background": "light"
          }
        }
      ]
    },
    {
      "cell_type": "markdown",
      "metadata": {
        "id": "N7cgIGxoP9qs"
      },
      "source": [
        "# One Hot Encoding Scores Column\n",
        "\n",
        "For multi-class classifcation using the neural network model, I needed the target variable to be one hot encoded, as the output layer would have 5 nodes, 1 for each score."
      ]
    },
    {
      "cell_type": "code",
      "metadata": {
        "colab": {
          "base_uri": "https://localhost:8080/",
          "height": 204
        },
        "id": "_bW3FIXHPtDA",
        "outputId": "a4ac7eeb-2304-4c5c-a450-7d069c233a8e"
      },
      "source": [
        "from sklearn.preprocessing import OneHotEncoder\n",
        "import pandas as pd\n",
        "enc = OneHotEncoder(handle_unknown='ignore')\n",
        "\n",
        "enc_df = pd.DataFrame(enc.fit_transform(dataset[['Rating']]).toarray())\n",
        "\n",
        "dataset = dataset.join(enc_df)\n",
        "dataset.head()"
      ],
      "execution_count": 14,
      "outputs": [
        {
          "output_type": "execute_result",
          "data": {
            "text/html": [
              "<div>\n",
              "<style scoped>\n",
              "    .dataframe tbody tr th:only-of-type {\n",
              "        vertical-align: middle;\n",
              "    }\n",
              "\n",
              "    .dataframe tbody tr th {\n",
              "        vertical-align: top;\n",
              "    }\n",
              "\n",
              "    .dataframe thead th {\n",
              "        text-align: right;\n",
              "    }\n",
              "</style>\n",
              "<table border=\"1\" class=\"dataframe\">\n",
              "  <thead>\n",
              "    <tr style=\"text-align: right;\">\n",
              "      <th></th>\n",
              "      <th>Review</th>\n",
              "      <th>Rating</th>\n",
              "      <th>0</th>\n",
              "      <th>1</th>\n",
              "      <th>2</th>\n",
              "      <th>3</th>\n",
              "      <th>4</th>\n",
              "    </tr>\n",
              "  </thead>\n",
              "  <tbody>\n",
              "    <tr>\n",
              "      <th>0</th>\n",
              "      <td>nice hotel expensive parking got good deal sta...</td>\n",
              "      <td>4</td>\n",
              "      <td>0.0</td>\n",
              "      <td>0.0</td>\n",
              "      <td>0.0</td>\n",
              "      <td>1.0</td>\n",
              "      <td>0.0</td>\n",
              "    </tr>\n",
              "    <tr>\n",
              "      <th>1</th>\n",
              "      <td>ok nothing special charge diamond member hilto...</td>\n",
              "      <td>2</td>\n",
              "      <td>0.0</td>\n",
              "      <td>1.0</td>\n",
              "      <td>0.0</td>\n",
              "      <td>0.0</td>\n",
              "      <td>0.0</td>\n",
              "    </tr>\n",
              "    <tr>\n",
              "      <th>2</th>\n",
              "      <td>nice rooms not 4* experience hotel monaco seat...</td>\n",
              "      <td>3</td>\n",
              "      <td>0.0</td>\n",
              "      <td>0.0</td>\n",
              "      <td>1.0</td>\n",
              "      <td>0.0</td>\n",
              "      <td>0.0</td>\n",
              "    </tr>\n",
              "    <tr>\n",
              "      <th>3</th>\n",
              "      <td>unique, great stay, wonderful time hotel monac...</td>\n",
              "      <td>5</td>\n",
              "      <td>0.0</td>\n",
              "      <td>0.0</td>\n",
              "      <td>0.0</td>\n",
              "      <td>0.0</td>\n",
              "      <td>1.0</td>\n",
              "    </tr>\n",
              "    <tr>\n",
              "      <th>4</th>\n",
              "      <td>great stay great stay, went seahawk game aweso...</td>\n",
              "      <td>5</td>\n",
              "      <td>0.0</td>\n",
              "      <td>0.0</td>\n",
              "      <td>0.0</td>\n",
              "      <td>0.0</td>\n",
              "      <td>1.0</td>\n",
              "    </tr>\n",
              "  </tbody>\n",
              "</table>\n",
              "</div>"
            ],
            "text/plain": [
              "                                              Review  Rating  ...    3    4\n",
              "0  nice hotel expensive parking got good deal sta...       4  ...  1.0  0.0\n",
              "1  ok nothing special charge diamond member hilto...       2  ...  0.0  0.0\n",
              "2  nice rooms not 4* experience hotel monaco seat...       3  ...  0.0  0.0\n",
              "3  unique, great stay, wonderful time hotel monac...       5  ...  0.0  1.0\n",
              "4  great stay great stay, went seahawk game aweso...       5  ...  0.0  1.0\n",
              "\n",
              "[5 rows x 7 columns]"
            ]
          },
          "metadata": {},
          "execution_count": 14
        }
      ]
    },
    {
      "cell_type": "code",
      "metadata": {
        "colab": {
          "base_uri": "https://localhost:8080/",
          "height": 204
        },
        "id": "RAGdEpnARkzd",
        "outputId": "61a543c5-dc28-46b1-898e-0a844ef9ef21"
      },
      "source": [
        "dataset_new = dataset.drop(columns='Rating')\n",
        "dataset_new.head()"
      ],
      "execution_count": 15,
      "outputs": [
        {
          "output_type": "execute_result",
          "data": {
            "text/html": [
              "<div>\n",
              "<style scoped>\n",
              "    .dataframe tbody tr th:only-of-type {\n",
              "        vertical-align: middle;\n",
              "    }\n",
              "\n",
              "    .dataframe tbody tr th {\n",
              "        vertical-align: top;\n",
              "    }\n",
              "\n",
              "    .dataframe thead th {\n",
              "        text-align: right;\n",
              "    }\n",
              "</style>\n",
              "<table border=\"1\" class=\"dataframe\">\n",
              "  <thead>\n",
              "    <tr style=\"text-align: right;\">\n",
              "      <th></th>\n",
              "      <th>Review</th>\n",
              "      <th>0</th>\n",
              "      <th>1</th>\n",
              "      <th>2</th>\n",
              "      <th>3</th>\n",
              "      <th>4</th>\n",
              "    </tr>\n",
              "  </thead>\n",
              "  <tbody>\n",
              "    <tr>\n",
              "      <th>0</th>\n",
              "      <td>nice hotel expensive parking got good deal sta...</td>\n",
              "      <td>0.0</td>\n",
              "      <td>0.0</td>\n",
              "      <td>0.0</td>\n",
              "      <td>1.0</td>\n",
              "      <td>0.0</td>\n",
              "    </tr>\n",
              "    <tr>\n",
              "      <th>1</th>\n",
              "      <td>ok nothing special charge diamond member hilto...</td>\n",
              "      <td>0.0</td>\n",
              "      <td>1.0</td>\n",
              "      <td>0.0</td>\n",
              "      <td>0.0</td>\n",
              "      <td>0.0</td>\n",
              "    </tr>\n",
              "    <tr>\n",
              "      <th>2</th>\n",
              "      <td>nice rooms not 4* experience hotel monaco seat...</td>\n",
              "      <td>0.0</td>\n",
              "      <td>0.0</td>\n",
              "      <td>1.0</td>\n",
              "      <td>0.0</td>\n",
              "      <td>0.0</td>\n",
              "    </tr>\n",
              "    <tr>\n",
              "      <th>3</th>\n",
              "      <td>unique, great stay, wonderful time hotel monac...</td>\n",
              "      <td>0.0</td>\n",
              "      <td>0.0</td>\n",
              "      <td>0.0</td>\n",
              "      <td>0.0</td>\n",
              "      <td>1.0</td>\n",
              "    </tr>\n",
              "    <tr>\n",
              "      <th>4</th>\n",
              "      <td>great stay great stay, went seahawk game aweso...</td>\n",
              "      <td>0.0</td>\n",
              "      <td>0.0</td>\n",
              "      <td>0.0</td>\n",
              "      <td>0.0</td>\n",
              "      <td>1.0</td>\n",
              "    </tr>\n",
              "  </tbody>\n",
              "</table>\n",
              "</div>"
            ],
            "text/plain": [
              "                                              Review    0    1    2    3    4\n",
              "0  nice hotel expensive parking got good deal sta...  0.0  0.0  0.0  1.0  0.0\n",
              "1  ok nothing special charge diamond member hilto...  0.0  1.0  0.0  0.0  0.0\n",
              "2  nice rooms not 4* experience hotel monaco seat...  0.0  0.0  1.0  0.0  0.0\n",
              "3  unique, great stay, wonderful time hotel monac...  0.0  0.0  0.0  0.0  1.0\n",
              "4  great stay great stay, went seahawk game aweso...  0.0  0.0  0.0  0.0  1.0"
            ]
          },
          "metadata": {},
          "execution_count": 15
        }
      ]
    },
    {
      "cell_type": "code",
      "metadata": {
        "id": "Tyb-5kCSR-G1"
      },
      "source": [
        "dataset_new = dataset_new.rename(columns={0: \"Rating_1\", 1: \"Rating_2\", 2: \"Rating_3\", 3: \"Rating_4\", 4: \"Rating_5\"})"
      ],
      "execution_count": 16,
      "outputs": []
    },
    {
      "cell_type": "code",
      "metadata": {
        "colab": {
          "base_uri": "https://localhost:8080/",
          "height": 204
        },
        "id": "RAqEWtLCSiLi",
        "outputId": "08313a54-7a69-4a6c-b025-ae6eddffdca4"
      },
      "source": [
        "dataset_new.head()"
      ],
      "execution_count": 17,
      "outputs": [
        {
          "output_type": "execute_result",
          "data": {
            "text/html": [
              "<div>\n",
              "<style scoped>\n",
              "    .dataframe tbody tr th:only-of-type {\n",
              "        vertical-align: middle;\n",
              "    }\n",
              "\n",
              "    .dataframe tbody tr th {\n",
              "        vertical-align: top;\n",
              "    }\n",
              "\n",
              "    .dataframe thead th {\n",
              "        text-align: right;\n",
              "    }\n",
              "</style>\n",
              "<table border=\"1\" class=\"dataframe\">\n",
              "  <thead>\n",
              "    <tr style=\"text-align: right;\">\n",
              "      <th></th>\n",
              "      <th>Review</th>\n",
              "      <th>Rating_1</th>\n",
              "      <th>Rating_2</th>\n",
              "      <th>Rating_3</th>\n",
              "      <th>Rating_4</th>\n",
              "      <th>Rating_5</th>\n",
              "    </tr>\n",
              "  </thead>\n",
              "  <tbody>\n",
              "    <tr>\n",
              "      <th>0</th>\n",
              "      <td>nice hotel expensive parking got good deal sta...</td>\n",
              "      <td>0.0</td>\n",
              "      <td>0.0</td>\n",
              "      <td>0.0</td>\n",
              "      <td>1.0</td>\n",
              "      <td>0.0</td>\n",
              "    </tr>\n",
              "    <tr>\n",
              "      <th>1</th>\n",
              "      <td>ok nothing special charge diamond member hilto...</td>\n",
              "      <td>0.0</td>\n",
              "      <td>1.0</td>\n",
              "      <td>0.0</td>\n",
              "      <td>0.0</td>\n",
              "      <td>0.0</td>\n",
              "    </tr>\n",
              "    <tr>\n",
              "      <th>2</th>\n",
              "      <td>nice rooms not 4* experience hotel monaco seat...</td>\n",
              "      <td>0.0</td>\n",
              "      <td>0.0</td>\n",
              "      <td>1.0</td>\n",
              "      <td>0.0</td>\n",
              "      <td>0.0</td>\n",
              "    </tr>\n",
              "    <tr>\n",
              "      <th>3</th>\n",
              "      <td>unique, great stay, wonderful time hotel monac...</td>\n",
              "      <td>0.0</td>\n",
              "      <td>0.0</td>\n",
              "      <td>0.0</td>\n",
              "      <td>0.0</td>\n",
              "      <td>1.0</td>\n",
              "    </tr>\n",
              "    <tr>\n",
              "      <th>4</th>\n",
              "      <td>great stay great stay, went seahawk game aweso...</td>\n",
              "      <td>0.0</td>\n",
              "      <td>0.0</td>\n",
              "      <td>0.0</td>\n",
              "      <td>0.0</td>\n",
              "      <td>1.0</td>\n",
              "    </tr>\n",
              "  </tbody>\n",
              "</table>\n",
              "</div>"
            ],
            "text/plain": [
              "                                              Review  ...  Rating_5\n",
              "0  nice hotel expensive parking got good deal sta...  ...       0.0\n",
              "1  ok nothing special charge diamond member hilto...  ...       0.0\n",
              "2  nice rooms not 4* experience hotel monaco seat...  ...       0.0\n",
              "3  unique, great stay, wonderful time hotel monac...  ...       1.0\n",
              "4  great stay great stay, went seahawk game aweso...  ...       1.0\n",
              "\n",
              "[5 rows x 6 columns]"
            ]
          },
          "metadata": {},
          "execution_count": 17
        }
      ]
    },
    {
      "cell_type": "markdown",
      "metadata": {
        "id": "_0JcYth2UG2y"
      },
      "source": [
        "Cleaning Text Data"
      ]
    },
    {
      "cell_type": "code",
      "metadata": {
        "id": "3SFyDtY1UDMg"
      },
      "source": [
        "# function for cleaning Review\n",
        "def standardize_text(df, field):\n",
        "    df[field] = df[field].str.replace(r\"http\\S+\", \"\")\n",
        "    df[field] = df[field].str.replace(r\"http\",\"\")\n",
        "    df[field] = df[field].str.replace(r\"@/S+\",\"\")\n",
        "    df[field] = df[field].str.replace(r\"[^A-Za-z0-9(),!?@\\'\\`\\\"\\_\\n]\", \" \")\n",
        "    df[field] = df[field].str.replace(r\"@\",\" at \")\n",
        "    df[field] = df[field].str.lower()\n",
        "    return df"
      ],
      "execution_count": 74,
      "outputs": []
    },
    {
      "cell_type": "code",
      "metadata": {
        "colab": {
          "base_uri": "https://localhost:8080/",
          "height": 204
        },
        "id": "ojpGo90vUJLp",
        "outputId": "acfef218-0635-47fd-a0bb-b022c8b5b66e"
      },
      "source": [
        "dataset_new = standardize_text(dataset_new, \"Review\")\n",
        "dataset_new.head()"
      ],
      "execution_count": 75,
      "outputs": [
        {
          "output_type": "execute_result",
          "data": {
            "text/html": [
              "<div>\n",
              "<style scoped>\n",
              "    .dataframe tbody tr th:only-of-type {\n",
              "        vertical-align: middle;\n",
              "    }\n",
              "\n",
              "    .dataframe tbody tr th {\n",
              "        vertical-align: top;\n",
              "    }\n",
              "\n",
              "    .dataframe thead th {\n",
              "        text-align: right;\n",
              "    }\n",
              "</style>\n",
              "<table border=\"1\" class=\"dataframe\">\n",
              "  <thead>\n",
              "    <tr style=\"text-align: right;\">\n",
              "      <th></th>\n",
              "      <th>Review</th>\n",
              "      <th>Rating_1</th>\n",
              "      <th>Rating_2</th>\n",
              "      <th>Rating_3</th>\n",
              "      <th>Rating_4</th>\n",
              "      <th>Rating_5</th>\n",
              "    </tr>\n",
              "  </thead>\n",
              "  <tbody>\n",
              "    <tr>\n",
              "      <th>0</th>\n",
              "      <td>nice hotel expensive parking got good deal sta...</td>\n",
              "      <td>0.0</td>\n",
              "      <td>0.0</td>\n",
              "      <td>0.0</td>\n",
              "      <td>1.0</td>\n",
              "      <td>0.0</td>\n",
              "    </tr>\n",
              "    <tr>\n",
              "      <th>1</th>\n",
              "      <td>ok nothing special charge diamond member hilto...</td>\n",
              "      <td>0.0</td>\n",
              "      <td>1.0</td>\n",
              "      <td>0.0</td>\n",
              "      <td>0.0</td>\n",
              "      <td>0.0</td>\n",
              "    </tr>\n",
              "    <tr>\n",
              "      <th>2</th>\n",
              "      <td>nice rooms not 4  experience hotel monaco seat...</td>\n",
              "      <td>0.0</td>\n",
              "      <td>0.0</td>\n",
              "      <td>1.0</td>\n",
              "      <td>0.0</td>\n",
              "      <td>0.0</td>\n",
              "    </tr>\n",
              "    <tr>\n",
              "      <th>3</th>\n",
              "      <td>unique, great stay, wonderful time hotel monac...</td>\n",
              "      <td>0.0</td>\n",
              "      <td>0.0</td>\n",
              "      <td>0.0</td>\n",
              "      <td>0.0</td>\n",
              "      <td>1.0</td>\n",
              "    </tr>\n",
              "    <tr>\n",
              "      <th>4</th>\n",
              "      <td>great stay great stay, went seahawk game aweso...</td>\n",
              "      <td>0.0</td>\n",
              "      <td>0.0</td>\n",
              "      <td>0.0</td>\n",
              "      <td>0.0</td>\n",
              "      <td>1.0</td>\n",
              "    </tr>\n",
              "  </tbody>\n",
              "</table>\n",
              "</div>"
            ],
            "text/plain": [
              "                                              Review  ...  Rating_5\n",
              "0  nice hotel expensive parking got good deal sta...  ...       0.0\n",
              "1  ok nothing special charge diamond member hilto...  ...       0.0\n",
              "2  nice rooms not 4  experience hotel monaco seat...  ...       0.0\n",
              "3  unique, great stay, wonderful time hotel monac...  ...       1.0\n",
              "4  great stay great stay, went seahawk game aweso...  ...       1.0\n",
              "\n",
              "[5 rows x 6 columns]"
            ]
          },
          "metadata": {},
          "execution_count": 75
        }
      ]
    },
    {
      "cell_type": "markdown",
      "metadata": {
        "id": "6pzcbwDavde9"
      },
      "source": [
        "Get Training and Testing dataset with split data become 80 percent and 20 percent respectively"
      ]
    },
    {
      "cell_type": "code",
      "metadata": {
        "id": "yzQS-SlITX3G"
      },
      "source": [
        "reviews = dataset_new['Review']\n",
        "ratings = dataset_new[['Rating_1', 'Rating_2', 'Rating_3', 'Rating_4', 'Rating_5']]"
      ],
      "execution_count": 76,
      "outputs": []
    },
    {
      "cell_type": "code",
      "metadata": {
        "id": "XZiHdggxTD6K"
      },
      "source": [
        "from sklearn.model_selection import train_test_split\n",
        "\n",
        "training_reviews, testing_reviews, training_ratings, testing_ratings = train_test_split(reviews, ratings, test_size=0.2)\n"
      ],
      "execution_count": 77,
      "outputs": []
    },
    {
      "cell_type": "markdown",
      "metadata": {
        "id": "wdCtk0tVVUxa"
      },
      "source": [
        "# Tokenizing text and creating sequences for sentences"
      ]
    },
    {
      "cell_type": "markdown",
      "metadata": {
        "id": "PJOw5_AJuRuQ"
      },
      "source": [
        "Now you will tokenize text and create sequences for sentences as the first stage of preparing text for use with TensorFlow models."
      ]
    },
    {
      "cell_type": "code",
      "metadata": {
        "id": "FGa0dzs0nj6G"
      },
      "source": [
        "# Import Tokenizer and pad_sequences\n",
        "import tensorflow as tf\n",
        "from tensorflow.keras.preprocessing.text import Tokenizer\n",
        "from tensorflow.keras.preprocessing.sequence import pad_sequences"
      ],
      "execution_count": 85,
      "outputs": []
    },
    {
      "cell_type": "code",
      "metadata": {
        "id": "plnVm__x0Hw8"
      },
      "source": [
        "# Define variables first to make easier tokenization\n",
        "vocab_size = 3000\n",
        "max_length = 250\n",
        "trunc_type = 'post'\n",
        "padding_type = 'post'\n",
        "oov_took = \"<OOV>\"\n",
        "\n",
        "tokenizer = Tokenizer(num_words = vocab_size, oov_token = oov_took, filters='!\"#$%&()*+,-./:;<=>?@[\\\\]^_`{|}~\\t\\n',\n",
        "                                                                   lower=True, split=' ', char_level=False,)\n",
        "\n",
        "\n",
        "tokenizer.fit_on_texts(training_reviews)\n",
        "#tokenizer.fit_on_texts(testing_reviews)\n",
        "\n",
        "# Sequences will be padded to the length of the longest individual sequence.\n",
        "training_sequences = tokenizer.texts_to_sequences(training_reviews)\n",
        "testing_sequences = tokenizer.texts_to_sequences(testing_reviews)\n",
        "\n",
        "\n",
        "training_padded = pad_sequences(training_sequences, maxlen=max_length, padding=padding_type,\n",
        "                       truncating=trunc_type)\n",
        "testing_padded = pad_sequences(testing_sequences, maxlen=max_length,\n",
        "                               padding=padding_type, truncating=trunc_type)"
      ],
      "execution_count": 89,
      "outputs": []
    },
    {
      "cell_type": "markdown",
      "metadata": {
        "id": "h_hjfT7oXQcv"
      },
      "source": [
        "Head [here](https://www.tensorflow.org/api_docs/python/tf/keras/preprocessing/text/Tokenizer) if you’d like to check out the full TensorFlow documentation for *Tokenizer*.\n",
        "\n",
        "Head [here](https://www.tensorflow.org/api_docs/python/tf/keras/preprocessing/sequence/pad_sequences) if you’d like to check out the full TensorFlow documentation for *pad_sequences*.\n",
        "\n"
      ]
    },
    {
      "cell_type": "markdown",
      "metadata": {
        "id": "c41wX6c1jktQ"
      },
      "source": [
        "## Train a Model with Embeddings and Bidirectional LSTM"
      ]
    },
    {
      "cell_type": "code",
      "metadata": {
        "id": "_g0V9913jx_S"
      },
      "source": [
        "# Build a basic reviews network\n",
        "# Note the embedding layer is first\n",
        "\n",
        "# Define embedding dimension as variable\n",
        "embedding_dim = 16 \n",
        "\n",
        "model = tf.keras.Sequential([\n",
        "                             tf.keras.layers.Embedding(vocab_size, embedding_dim, input_length=max_length),\n",
        "                             tf.keras.layers.Bidirectional(tf.keras.layers.LSTM(512, \n",
        "                                                       return_sequences=True)), \n",
        "                             tf.keras.layers.Bidirectional(tf.keras.layers.LSTM(256)), \n",
        "                             tf.keras.layers.Dense(512, kernel_regularizer=tf.keras.regularizers.l2(0.001),\n",
        "                                                   activation='relu'),\n",
        "                             tf.keras.layers.Dropout(0.5),\n",
        "                             tf.keras.layers.Dense(256, kernel_regularizer=tf.keras.regularizers.l2(0.001),\n",
        "                                                   activation='relu'),\n",
        "                             tf.keras.layers.Dropout(0.5),\n",
        "                             tf.keras.layers.Dense(5, activation='softmax')\n",
        "])"
      ],
      "execution_count": 90,
      "outputs": []
    },
    {
      "cell_type": "markdown",
      "metadata": {
        "id": "1uGWaHEmc4Ys"
      },
      "source": [
        "If you want to learn more on why word embeddings are used in NLP, check out this [useful post](https://towardsdatascience.com/why-do-we-use-embeddings-in-nlp-2f20e1b632d2).\n",
        "\n",
        "\n",
        "\n",
        "Tensorflow Documentation:\n",
        "\n",
        "\n",
        "[1] [Word Embedding](https://www.tensorflow.org/text/guide/word_embeddings)\n",
        "\n",
        "\n",
        "\n",
        "[2] [Embedding](https://www.tensorflow.org/api_docs/python/tf/keras/layers/Embedding)"
      ]
    },
    {
      "cell_type": "code",
      "metadata": {
        "id": "E8DoQlvBmc9w"
      },
      "source": [
        "# Compile function\n",
        "model.compile(loss='categorical_crossentropy',\n",
        "              optimizer='adam',\n",
        "              metrics=['accuracy'])"
      ],
      "execution_count": 91,
      "outputs": []
    },
    {
      "cell_type": "code",
      "metadata": {
        "colab": {
          "base_uri": "https://localhost:8080/"
        },
        "id": "ZEljOy48m44H",
        "outputId": "0d70055d-36d3-4208-dfbf-1022aaf68054"
      },
      "source": [
        "model.summary()"
      ],
      "execution_count": 92,
      "outputs": [
        {
          "output_type": "stream",
          "name": "stdout",
          "text": [
            "Model: \"sequential_12\"\n",
            "_________________________________________________________________\n",
            "Layer (type)                 Output Shape              Param #   \n",
            "=================================================================\n",
            "embedding_12 (Embedding)     (None, 250, 16)           48000     \n",
            "_________________________________________________________________\n",
            "bidirectional_24 (Bidirectio (None, 250, 1024)         2166784   \n",
            "_________________________________________________________________\n",
            "bidirectional_25 (Bidirectio (None, 512)               2623488   \n",
            "_________________________________________________________________\n",
            "dense_35 (Dense)             (None, 512)               262656    \n",
            "_________________________________________________________________\n",
            "dropout_21 (Dropout)         (None, 512)               0         \n",
            "_________________________________________________________________\n",
            "dense_36 (Dense)             (None, 256)               131328    \n",
            "_________________________________________________________________\n",
            "dropout_22 (Dropout)         (None, 256)               0         \n",
            "_________________________________________________________________\n",
            "dense_37 (Dense)             (None, 5)                 1285      \n",
            "=================================================================\n",
            "Total params: 5,233,541\n",
            "Trainable params: 5,233,541\n",
            "Non-trainable params: 0\n",
            "_________________________________________________________________\n"
          ]
        }
      ]
    },
    {
      "cell_type": "code",
      "metadata": {
        "id": "AXqSfodBZhCi"
      },
      "source": [
        "# callback\n",
        "callback = tf.keras.callbacks.EarlyStopping(monitor='loss', patience=3)"
      ],
      "execution_count": 93,
      "outputs": []
    },
    {
      "cell_type": "code",
      "metadata": {
        "colab": {
          "base_uri": "https://localhost:8080/"
        },
        "id": "cUhNmN_SnPaA",
        "outputId": "c5d56433-281e-4587-d111-4faa022506aa"
      },
      "source": [
        "num_epochs = 30\n",
        "history = model.fit(training_padded, training_ratings, epochs=num_epochs, batch_size=128, validation_data=(testing_padded, testing_ratings), callbacks=[callback], verbose=2)"
      ],
      "execution_count": 94,
      "outputs": [
        {
          "output_type": "stream",
          "name": "stdout",
          "text": [
            "Epoch 1/30\n",
            "129/129 - 117s - loss: 1.7028 - accuracy: 0.4300 - val_loss: 1.4337 - val_accuracy: 0.4274\n",
            "Epoch 2/30\n",
            "129/129 - 108s - loss: 1.2969 - accuracy: 0.4632 - val_loss: 1.2117 - val_accuracy: 0.4704\n",
            "Epoch 3/30\n",
            "129/129 - 108s - loss: 1.1474 - accuracy: 0.5009 - val_loss: 1.1436 - val_accuracy: 0.5013\n",
            "Epoch 4/30\n",
            "129/129 - 108s - loss: 1.0889 - accuracy: 0.5176 - val_loss: 1.1574 - val_accuracy: 0.4904\n",
            "Epoch 5/30\n",
            "129/129 - 108s - loss: 1.0579 - accuracy: 0.5313 - val_loss: 1.1195 - val_accuracy: 0.5055\n",
            "Epoch 6/30\n",
            "129/129 - 108s - loss: 1.0299 - accuracy: 0.5454 - val_loss: 1.1244 - val_accuracy: 0.5040\n",
            "Epoch 7/30\n",
            "129/129 - 108s - loss: 1.0156 - accuracy: 0.5569 - val_loss: 1.1233 - val_accuracy: 0.5006\n",
            "Epoch 8/30\n",
            "129/129 - 108s - loss: 1.0123 - accuracy: 0.5589 - val_loss: 1.1208 - val_accuracy: 0.5265\n",
            "Epoch 9/30\n",
            "129/129 - 108s - loss: 0.9987 - accuracy: 0.5673 - val_loss: 1.1157 - val_accuracy: 0.5299\n",
            "Epoch 10/30\n",
            "129/129 - 108s - loss: 0.9839 - accuracy: 0.5806 - val_loss: 1.1228 - val_accuracy: 0.5394\n",
            "Epoch 11/30\n",
            "129/129 - 108s - loss: 0.9850 - accuracy: 0.5813 - val_loss: 1.2004 - val_accuracy: 0.5128\n",
            "Epoch 12/30\n",
            "129/129 - 109s - loss: 0.9622 - accuracy: 0.5959 - val_loss: 1.1264 - val_accuracy: 0.5418\n",
            "Epoch 13/30\n",
            "129/129 - 108s - loss: 0.9560 - accuracy: 0.5999 - val_loss: 1.1170 - val_accuracy: 0.5396\n",
            "Epoch 14/30\n",
            "129/129 - 108s - loss: 0.9489 - accuracy: 0.6038 - val_loss: 1.1196 - val_accuracy: 0.5440\n",
            "Epoch 15/30\n",
            "129/129 - 109s - loss: 0.9340 - accuracy: 0.6119 - val_loss: 1.1186 - val_accuracy: 0.5389\n",
            "Epoch 16/30\n",
            "129/129 - 109s - loss: 0.9291 - accuracy: 0.6119 - val_loss: 1.1114 - val_accuracy: 0.5399\n",
            "Epoch 17/30\n",
            "129/129 - 108s - loss: 0.9249 - accuracy: 0.6191 - val_loss: 1.1212 - val_accuracy: 0.5477\n",
            "Epoch 18/30\n",
            "129/129 - 108s - loss: 0.9122 - accuracy: 0.6229 - val_loss: 1.0825 - val_accuracy: 0.5533\n",
            "Epoch 19/30\n",
            "129/129 - 108s - loss: 0.9085 - accuracy: 0.6223 - val_loss: 1.1007 - val_accuracy: 0.5448\n",
            "Epoch 20/30\n",
            "129/129 - 108s - loss: 0.9109 - accuracy: 0.6292 - val_loss: 1.1066 - val_accuracy: 0.5416\n",
            "Epoch 21/30\n",
            "129/129 - 108s - loss: 0.9214 - accuracy: 0.6203 - val_loss: 1.1837 - val_accuracy: 0.5387\n",
            "Epoch 22/30\n",
            "129/129 - 108s - loss: 0.9018 - accuracy: 0.6348 - val_loss: 1.1082 - val_accuracy: 0.5438\n",
            "Epoch 23/30\n",
            "129/129 - 108s - loss: 0.8806 - accuracy: 0.6428 - val_loss: 1.1670 - val_accuracy: 0.5667\n",
            "Epoch 24/30\n",
            "129/129 - 108s - loss: 0.8766 - accuracy: 0.6445 - val_loss: 1.1111 - val_accuracy: 0.5592\n",
            "Epoch 25/30\n",
            "129/129 - 108s - loss: 0.8897 - accuracy: 0.6318 - val_loss: 1.0979 - val_accuracy: 0.5567\n",
            "Epoch 26/30\n",
            "129/129 - 108s - loss: 0.8694 - accuracy: 0.6495 - val_loss: 1.1306 - val_accuracy: 0.5631\n",
            "Epoch 27/30\n",
            "129/129 - 108s - loss: 0.8568 - accuracy: 0.6508 - val_loss: 1.1437 - val_accuracy: 0.5575\n",
            "Epoch 28/30\n",
            "129/129 - 108s - loss: 0.8946 - accuracy: 0.6296 - val_loss: 1.1179 - val_accuracy: 0.5570\n",
            "Epoch 29/30\n",
            "129/129 - 108s - loss: 0.8704 - accuracy: 0.6517 - val_loss: 1.1110 - val_accuracy: 0.5614\n",
            "Epoch 30/30\n",
            "129/129 - 108s - loss: 0.8566 - accuracy: 0.6528 - val_loss: 1.0585 - val_accuracy: 0.5748\n"
          ]
        }
      ]
    },
    {
      "cell_type": "markdown",
      "metadata": {
        "id": "brBcbxXcmfYO"
      },
      "source": [
        "# Plot the accuracy and loss"
      ]
    },
    {
      "cell_type": "code",
      "metadata": {
        "id": "h9E7G_KGTvJI",
        "colab": {
          "base_uri": "https://localhost:8080/",
          "height": 541
        },
        "outputId": "99706dbe-6884-4ea0-83a9-05d8eafde94a"
      },
      "source": [
        "import matplotlib.pyplot as plt\n",
        "\n",
        "\n",
        "def plot_graphs(history, string):\n",
        "  plt.plot(history.history[string])\n",
        "  plt.plot(history.history['val_'+string])\n",
        "  plt.xlabel(\"Epochs\")\n",
        "  plt.ylabel(string)\n",
        "  plt.legend([string, 'val_'+string])\n",
        "  plt.show()\n",
        "\n",
        "plot_graphs(history, \"accuracy\")\n",
        "plot_graphs(history, \"loss\")\n"
      ],
      "execution_count": 95,
      "outputs": [
        {
          "output_type": "display_data",
          "data": {
            "image/png": "[encoded data removed]",
            "text/plain": [
              "<Figure size 432x288 with 1 Axes>"
            ]
          },
          "metadata": {
            "needs_background": "light"
          }
        },
        {
          "output_type": "display_data",
          "data": {
            "image/png": "[encoded data removed]",
            "text/plain": [
              "<Figure size 432x288 with 1 Axes>"
            ]
          },
          "metadata": {
            "needs_background": "light"
          }
        }
      ]
    },
    {
      "cell_type": "code",
      "metadata": {
        "id": "fsj2SBdqU7f-"
      },
      "source": [
        ""
      ],
      "execution_count": null,
      "outputs": []
    }
  ]
}